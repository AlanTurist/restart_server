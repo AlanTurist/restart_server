{
 "cells": [
  {
   "cell_type": "markdown",
   "metadata": {},
   "source": [
    "<center><i><img src=\"https://www.python.org/static/apple-touch-icon-72x72-precomposed.png\"></i></center>"
   ]
  },
  {
   "cell_type": "markdown",
   "metadata": {},
   "source": [
    "## <center>Script dove l'utente inserisce i minuti come un intero e lo script riavvia il Pc o il Server dopo gli x minuti<i><br><br><font color=\"blue\">AlanTurista</font></i></center>"
   ]
  },
  {
   "cell_type": "markdown",
   "metadata": {},
   "source": [
    "## Main"
   ]
  },
  {
   "cell_type": "code",
   "execution_count": null,
   "metadata": {},
   "outputs": [],
   "source": [
    "import countdown_def\n",
    "import restart_def\n",
    "\n",
    "print(\"\\n\\n\\t~ Script per riavvio Pc o Server ~\\n\\n@Author: Alan Turista, alan.turista@gmail.com\\n\")\n",
    "\n",
    "print('*'*60)\n",
    "\n",
    "#Give time to restart in minutes\n",
    "x = int(input(\"\\n\\tInserire minuti: \"))\n",
    "t = x*60\n",
    "\n",
    "print(\"\\n\\n\\tIl calcolatore verrà riavviato in:\\n\")\n",
    "countdown_def.countdown(t)\n",
    "\n",
    "restart_def.restart()"
   ]
  },
  {
   "cell_type": "markdown",
   "metadata": {},
   "source": [
    "## Countdown"
   ]
  },
  {
   "cell_type": "code",
   "execution_count": null,
   "metadata": {},
   "outputs": [],
   "source": [
    "import time\n",
    "\n",
    "def countdown(t):\n",
    "\twhile t > 0:\n",
    "\t\tm, s = divmod(t, 60)\n",
    "\t\th, m = divmod(m, 60)\n",
    "\t\ttime_left = str(h).zfill(2) + \":\" + str(m).zfill(2) + \":\" + str(s).zfill(2)\n",
    "\t\tprint(time_left + \"\\r\", end=\"\")\n",
    "\t\ttime.sleep(1)\n",
    "\t\tt -= 1"
   ]
  },
  {
   "cell_type": "markdown",
   "metadata": {},
   "source": [
    "## Restart"
   ]
  },
  {
   "cell_type": "code",
   "execution_count": null,
   "metadata": {},
   "outputs": [],
   "source": [
    "import os\n",
    "\n",
    "def restart():\n",
    "    os.system(\"shutdown -g -t 0\")"
   ]
  }
 ],
 "metadata": {
  "kernelspec": {
   "display_name": "Python 3",
   "language": "python",
   "name": "python3"
  },
  "language_info": {
   "codemirror_mode": {
    "name": "ipython",
    "version": 3
   },
   "file_extension": ".py",
   "mimetype": "text/x-python",
   "name": "python",
   "nbconvert_exporter": "python",
   "pygments_lexer": "ipython3",
   "version": "3.7.7"
  }
 },
 "nbformat": 4,
 "nbformat_minor": 4
}
